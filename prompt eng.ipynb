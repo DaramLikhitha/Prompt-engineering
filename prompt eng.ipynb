{
 "cells": [
  {
   "cell_type": "code",
   "execution_count": 3,
   "metadata": {},
   "outputs": [],
   "source": [
    "# !pip install openai"
   ]
  },
  {
   "cell_type": "code",
   "execution_count": 4,
   "metadata": {},
   "outputs": [
    {
     "name": "stdout",
     "output_type": "stream",
     "text": [
      "openai 1.6.0\n"
     ]
    }
   ],
   "source": [
    "!openai --version"
   ]
  },
  {
   "cell_type": "code",
   "execution_count": 5,
   "metadata": {},
   "outputs": [],
   "source": [
    "import openai"
   ]
  },
  {
   "cell_type": "code",
   "execution_count": 16,
   "metadata": {},
   "outputs": [],
   "source": [
    "from dotenv import load_dotenv,find_dotenv\n",
    "import os\n",
    "\n",
    "_ = load_dotenv(find_dotenv()) # read local .env file\n",
    "\n",
    "openai.api_key  = os.environ[\"OPENAI_API_KEY\"]"
   ]
  },
  {
   "cell_type": "code",
   "execution_count": 8,
   "metadata": {},
   "outputs": [],
   "source": [
    "# this helper function for openai version 0.28.0\n",
    "\n",
    "\n",
    "# def get_completion(prompt, model=\"gpt-3.5-turbo\"):\n",
    "#     messages = [{\"role\": \"user\", \"content\": prompt}]\n",
    "#     response = openai.ChatCompletion.create(\n",
    "#         model=model,\n",
    "#         messages=messages,\n",
    "#         temperature=0, # this is the degree of randomness of the model's output\n",
    "#     )\n",
    "#     return response.choices[0].message[\"content\"]"
   ]
  },
  {
   "cell_type": "code",
   "execution_count": 17,
   "metadata": {},
   "outputs": [],
   "source": [
    "# this helper function for openai version above 1.0.0\n",
    "\n",
    "client = openai.OpenAI()\n",
    "\n",
    "def get_completion(prompt, model=\"gpt-3.5-turbo\"):\n",
    "    messages = [{\"role\": \"user\", \"content\": prompt}]\n",
    "    response = client.chat.completions.create(\n",
    "        model=model,\n",
    "        messages=messages,\n",
    "        temperature=0\n",
    "    )\n",
    "    return response.choices[0].message.content"
   ]
  },
  {
   "cell_type": "code",
   "execution_count": 18,
   "metadata": {},
   "outputs": [],
   "source": [
    "text = f\"\"\"\n",
    "In a devastating turn of events, Tamil Nadu is reeling from the aftermath of a powerful cyclone that made landfall earlier this week. The cyclone, accompanied by fierce winds and torrential rains, has left a trail of destruction in its wake.\n",
    "\n",
    "Coastal districts bore the brunt of the cyclone, experiencing severe flooding, uprooted trees, and damaged infrastructure. Thousands of residents have been displaced, seeking refuge in temporary shelters set up by local authorities. Rescue and relief operations are underway, with the focus on providing essential supplies, medical aid, and restoring communication and power lines.\n",
    "\n",
    "The cyclone has disrupted normal life, causing the suspension of transportation services, closure of educational institutions, and widespread power outages. Fishing communities along the coast have suffered substantial losses, as boats and equipment were damaged or washed away.\n",
    "\n",
    "State and national disaster response teams are collaborating to assess the extent of the damage and expedite relief efforts. The Chief Minister has appealed for assistance from neighboring states and the central government to ensure swift recovery and rehabilitation.\n",
    "\n",
    "As Tamil Nadu grapples with the aftermath of this cyclonic onslaught, the resilience of communities and the collaborative efforts of relief agencies are critical in providing immediate support and rebuilding the affected areas.\n",
    "\"\"\""
   ]
  },
  {
   "cell_type": "code",
   "execution_count": 1,
   "metadata": {},
   "outputs": [],
   "source": [
    "text = input()"
   ]
  },
  {
   "cell_type": "markdown",
   "metadata": {},
   "source": [
    "LLM can do the following through prompt : <br>\n",
    "<ul>\n",
    "<li>summarize, </li>\n",
    "<li>translate, </li>\n",
    "<li>inferring - sentiment,</li>\n",
    "<li>extraction ,</li>\n",
    "<li>generation text,</li>\n",
    "<li>proofreading.</li>\n",
    "</ul>"
   ]
  },
  {
   "cell_type": "code",
   "execution_count": 25,
   "metadata": {},
   "outputs": [
    {
     "name": "stdout",
     "output_type": "stream",
     "text": [
      "1. Summary: Tamil Nadu is facing the aftermath of a powerful cyclone that caused severe flooding, uprooted trees, and damaged infrastructure. Thousands of residents have been displaced, and rescue and relief operations are underway to provide essential supplies and restore communication and power lines.\n",
      "\n",
      "2. Translation (English to Hindi): तमिलनाडु एक शक्तिशाली चक्रवात के पश्चात उसके प्रभाव से जूझ रहा है जिसने गंभीर बाढ़, पेड़ों को उखाड़ दिया और बुरी तरह से इंफ्रास्ट्रक्चर को नुकसान पहुंचाया। हजारों निवासियों को बाहर किया गया है, और आपातकालीन आवासों में आराम की तलाश में हैं। राहत और बचाव कार्यों को जारी रखा जा रहा है, मुख्य ध्यान आवश्यक सामग्री, चिकित्सा सहायता और संचार और बिजली लाइनों को पुनर्स्थापित करने पर है।\n",
      "\n",
      "Translation (English to Telugu): తమిళనాడు శక్తివంతమైన సైక్లోన్ పరిణామంగా ఉంది, ఇది భారీ పొడవటితో కూడిన గాలి మరియు భారీ వర్షాలతో తలపై నష్టాల వల్ల నష్టాల ప్రదేశాలను వచ్చేసింది. తీర జిల్లాల్లో సంక్షోభం పొందిన మందికి తగిన ఆపదానికి స్థానంలో తాను స్థాపించిన తాత్కాలిక ఆశ్రయాలలో ఆశ్రయం కోసం శోధనలు మరియు రిస్టోర్ కమ్యూనికేషన్ మరియు పవర్ లైన్లను అందించడం పై కేంద్ర ప్రభుత్వం మరియు ప్రాంతీయ ఆధార ప్రతిస్పందన జట్టున ఉన్నాయి.\n",
      "\n",
      "3. Key points:\n",
      "- Tamil Nadu is facing the aftermath of a powerful cyclone with severe flooding and damaged infrastructure.\n",
      "- Coastal districts have experienced uprooted trees and damaged infrastructure.\n",
      "- Thousands of residents have been displaced and are seeking refuge in temporary shelters.\n",
      "- Rescue and relief operations are underway, focusing on providing essential supplies and restoring communication and power lines.\n",
      "- Fishing communities along the coast have suffered substantial losses.\n",
      "\n",
      "4. Extraction: The text discusses the devastating impact of a powerful cyclone in Tamil Nadu, causing severe flooding, uprooted trees, damaged infrastructure, and displacement of residents. Rescue and relief operations are ongoing to provide essential supplies and restore communication and power lines.\n",
      "\n",
      "5. Story: In the coastal state of Tamil Nadu, a powerful cyclone wreaked havoc, leaving behind a trail of destruction. The floodwaters rose, uprooting trees and damaging homes and roads. Thousands of people were forced to leave their homes and seek shelter in temporary camps. Rescue teams worked tirelessly to provide food, water, and medical aid to those affected. Slowly, the state began to rebuild, with communities coming together to support each other and restore what was lost.\n",
      "\n",
      "6. Proofreading: No correction required.\n",
      "\n",
      "7. Sentiment: The sentiment of the text is likely to be negative, expressing sadness and concern for the devastation caused by the cyclone.\n"
     ]
    }
   ],
   "source": [
    "\n",
    "prompt = f\"\"\"\n",
    "perform the following tasks \\\n",
    "1.Summarize the text delimited by triple backticks \\ \n",
    "into a single sentence.\n",
    "2.translate the summarized text into hindi and telugu languages if summarized text is in english. \\\n",
    "    If language of text is not english \\\n",
    "    then tell what is the languge of text \\\n",
    "    and also translate summarized text into english.\\\n",
    "3.briefly identify the key points mentioned in the text delimited by ```.\\\n",
    "Make the atmost 5 short points in about 50 words each.\\\n",
    "4. extract the main idea on what is text is about into 1 or 2 sentences.\n",
    "5. generate a small story on the main idea of given text in about 5 sentences.\n",
    "6. proofreading and correct the given text and display the corrected text only if correction of text is required \n",
    "    else mention \"no correction required\".\n",
    "7. identify the sentiment of the text and display into 3 emotions.\n",
    "\n",
    "\n",
    "format the outputs as following tasks \n",
    "and separate each task from other task with a blank line \n",
    "if response is more then a sentence then display as paragraph:\n",
    "\n",
    "1. summary : <summarized text>\n",
    "2. translation : <translated summarized text in both languages>\n",
    "3. key points : <key points mentioned in the text>\n",
    "4 extraction : <extracted idea of text>\n",
    "5. story:<generated story>\n",
    "6. proofreading :<proofread corrected text with each sentence in new line> \n",
    "7. sentiment: <text emotions>\n",
    "\n",
    "text :\n",
    "```{text}```\n",
    "\"\"\"\n",
    "response = get_completion(prompt)\n",
    "print(response)"
   ]
  }
 ],
 "metadata": {
  "kernelspec": {
   "display_name": "Python 3",
   "language": "python",
   "name": "python3"
  },
  "language_info": {
   "codemirror_mode": {
    "name": "ipython",
    "version": 3
   },
   "file_extension": ".py",
   "mimetype": "text/x-python",
   "name": "python",
   "nbconvert_exporter": "python",
   "pygments_lexer": "ipython3",
   "version": "3.11.7"
  }
 },
 "nbformat": 4,
 "nbformat_minor": 2
}
